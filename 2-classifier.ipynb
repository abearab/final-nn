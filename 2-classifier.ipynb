{
 "cells": [
  {
   "cell_type": "markdown",
   "metadata": {},
   "source": [
    "### Background\n",
    "\n",
    "Transcription factors are proteins that bind DNA at promoters to drive gene expression. Most preferentially bind to specific sequences while ignoring others. Traditional methods to determine these sequences (called motifs) have assumed that binding sites in the genome are all independent. However, in some cases people have identified motifs where positional interdependencies exist.\n",
    "\n",
    "### Your task\n",
    "\n",
    "You will implement a multi-layer fully connected neural network using your `NeuralNetwork` class to predict whether a short DNA sequence is a binding site for the yeast transcription factor Rap1. The training data is incredibly imbalanced, with way fewer positive sequences than negative sequences, so you will implement a sampling scheme to ensure that class imbalance does not affect training. As in step 2, all of the following work should be done in a Jupyter Notebook.\n",
    "\n",
    "### To-do\n",
    "\n",
    "* Use the `read_text_file` function from `io.py` to read in the 137 positive Rap1 motif examples.\n",
    "* Use the `read_fasta_file` function from `io.py` to read in all the negative examples. Note that these sequences are much longer than the positive sequences, so you will need to process them to the same length.\n",
    "* Balance your classes using your `sample_seq` function and explain why you chose the sampling scheme you did.\n",
    "* One-hot encode the data using your `one_hot_encode_seqs` function.\n",
    "* Split the data into training and validation sets.\n",
    "* Generate an instance of your `NeuralNetwork` class with an appropriate architecture.\n",
    "* Train your neural network on the training data.\n",
    "* Plot your training and validation loss by epoch.\n",
    "* Report the accuracy of your classifier on your validation dataset.\n",
    "* Explain your choice of loss function and hyperparameters.\n",
    "\n"
   ]
  },
  {
   "cell_type": "code",
   "execution_count": 1,
   "metadata": {},
   "outputs": [
    {
     "name": "stdout",
     "output_type": "stream",
     "text": [
      "Processing /Users/abearab/Projects/bmi203-course/final-nn\n",
      "  Installing build dependencies ... \u001b[?25ldone\n",
      "\u001b[?25h  Getting requirements to build wheel ... \u001b[?25ldone\n",
      "\u001b[?25h  Preparing metadata (pyproject.toml) ... \u001b[?25ldone\n",
      "\u001b[?25hRequirement already satisfied: numpy in /Users/abearab/miniconda3/envs/bmi203/lib/python3.13/site-packages (from final-nn==0.2.5) (2.2.2)\n",
      "Requirement already satisfied: pandas in /Users/abearab/miniconda3/envs/bmi203/lib/python3.13/site-packages (from final-nn==0.2.5) (2.2.3)\n",
      "Requirement already satisfied: pytest in /Users/abearab/miniconda3/envs/bmi203/lib/python3.13/site-packages (from final-nn==0.2.5) (8.3.4)\n",
      "Requirement already satisfied: scikit-learn in /Users/abearab/miniconda3/envs/bmi203/lib/python3.13/site-packages (from final-nn==0.2.5) (1.6.1)\n",
      "Requirement already satisfied: scipy in /Users/abearab/miniconda3/envs/bmi203/lib/python3.13/site-packages (from final-nn==0.2.5) (1.15.1)\n",
      "Requirement already satisfied: python-dateutil>=2.8.2 in /Users/abearab/miniconda3/envs/bmi203/lib/python3.13/site-packages (from pandas->final-nn==0.2.5) (2.9.0.post0)\n",
      "Requirement already satisfied: pytz>=2020.1 in /Users/abearab/miniconda3/envs/bmi203/lib/python3.13/site-packages (from pandas->final-nn==0.2.5) (2024.1)\n",
      "Requirement already satisfied: tzdata>=2022.7 in /Users/abearab/miniconda3/envs/bmi203/lib/python3.13/site-packages (from pandas->final-nn==0.2.5) (2025.1)\n",
      "Requirement already satisfied: iniconfig in /Users/abearab/miniconda3/envs/bmi203/lib/python3.13/site-packages (from pytest->final-nn==0.2.5) (2.0.0)\n",
      "Requirement already satisfied: packaging in /Users/abearab/miniconda3/envs/bmi203/lib/python3.13/site-packages (from pytest->final-nn==0.2.5) (24.2)\n",
      "Requirement already satisfied: pluggy<2,>=1.5 in /Users/abearab/miniconda3/envs/bmi203/lib/python3.13/site-packages (from pytest->final-nn==0.2.5) (1.5.0)\n",
      "Requirement already satisfied: joblib>=1.2.0 in /Users/abearab/miniconda3/envs/bmi203/lib/python3.13/site-packages (from scikit-learn->final-nn==0.2.5) (1.4.2)\n",
      "Requirement already satisfied: threadpoolctl>=3.1.0 in /Users/abearab/miniconda3/envs/bmi203/lib/python3.13/site-packages (from scikit-learn->final-nn==0.2.5) (3.5.0)\n",
      "Requirement already satisfied: six>=1.5 in /Users/abearab/miniconda3/envs/bmi203/lib/python3.13/site-packages (from python-dateutil>=2.8.2->pandas->final-nn==0.2.5) (1.17.0)\n",
      "Building wheels for collected packages: final-nn\n",
      "  Building wheel for final-nn (pyproject.toml) ... \u001b[?25ldone\n",
      "\u001b[?25h  Created wheel for final-nn: filename=final_nn-0.2.5-py3-none-any.whl size=9670 sha256=4cf2ca84983f31772a78358cd572268b84444164554fb709656d82ea9a4f35bb\n",
      "  Stored in directory: /Users/abearab/Library/Caches/pip/wheels/37/f4/f8/46a7f18911f518b335a8b001d9d3a219bbd190a1cece695c3c\n",
      "Successfully built final-nn\n",
      "Installing collected packages: final-nn\n",
      "  Attempting uninstall: final-nn\n",
      "    Found existing installation: final-nn 0.2.5\n",
      "    Uninstalling final-nn-0.2.5:\n",
      "      Successfully uninstalled final-nn-0.2.5\n",
      "Successfully installed final-nn-0.2.5\n",
      "Note: you may need to restart the kernel to use updated packages.\n"
     ]
    }
   ],
   "source": [
    "pip install ."
   ]
  },
  {
   "cell_type": "code",
   "execution_count": 2,
   "metadata": {},
   "outputs": [],
   "source": [
    "import numpy as np\n",
    "import sklearn\n",
    "from sklearn.model_selection import train_test_split\n",
    "from sklearn.preprocessing import MinMaxScaler\n",
    "from nn.nn import NeuralNetwork"
   ]
  },
  {
   "cell_type": "code",
   "execution_count": 3,
   "metadata": {},
   "outputs": [],
   "source": [
    "from nn.preprocess import *"
   ]
  },
  {
   "cell_type": "code",
   "execution_count": 4,
   "metadata": {},
   "outputs": [],
   "source": [
    "from nn.io import read_text_file, read_fasta_file"
   ]
  },
  {
   "cell_type": "code",
   "execution_count": 24,
   "metadata": {},
   "outputs": [],
   "source": [
    "import matplotlib.pyplot as plt"
   ]
  },
  {
   "cell_type": "markdown",
   "metadata": {},
   "source": [
    "___"
   ]
  },
  {
   "cell_type": "code",
   "execution_count": 5,
   "metadata": {},
   "outputs": [],
   "source": [
    "# Use the `read_text_file` function from `io.py` to read in the 137 positive Rap1 motif examples.\n",
    "pos_sequences = read_text_file('data/rap1-lieb-positives.txt')"
   ]
  },
  {
   "cell_type": "code",
   "execution_count": 6,
   "metadata": {},
   "outputs": [],
   "source": [
    "# Use the `read_fasta_file` function from `io.py` to read in all the negative examples. Note that these sequences are much longer than the positive sequences, so you will need to process them to the same length.\n",
    "neg_sequences = read_fasta_file('data/yeast-upstream-1k-negative.fa')"
   ]
  },
  {
   "cell_type": "code",
   "execution_count": 7,
   "metadata": {},
   "outputs": [],
   "source": [
    "sequences = pos_sequences + neg_sequences\n",
    "sequences_labels = [1] * len(pos_sequences) + [0] * len(neg_sequences)"
   ]
  },
  {
   "cell_type": "code",
   "execution_count": 8,
   "metadata": {},
   "outputs": [],
   "source": [
    "# Balance your classes using your `sample_seq` function and explain why you chose the sampling scheme you did.\n",
    "sequences, sequences_labels = sample_seqs(sequences, sequences_labels)"
   ]
  },
  {
   "cell_type": "code",
   "execution_count": 16,
   "metadata": {},
   "outputs": [],
   "source": [
    "# One-hot encode the data using your `one_hot_encode_seqs` function.\n",
    "sequences_one_hot = one_hot_encode_seqs(sequences)\n",
    "\n",
    "sequences_labels = np.array(sequences_labels).reshape(-1, 1)"
   ]
  },
  {
   "cell_type": "markdown",
   "metadata": {},
   "source": [
    "___"
   ]
  },
  {
   "cell_type": "code",
   "execution_count": 19,
   "metadata": {},
   "outputs": [],
   "source": [
    "# Split the data into training and validation sets.\n",
    "X_train, X_val, y_train, y_val = train_test_split(\n",
    "    sequences_one_hot, \n",
    "    sequences_labels, \n",
    "    test_size=0.2, \n",
    "    random_state=42\n",
    ")"
   ]
  },
  {
   "cell_type": "code",
   "execution_count": 44,
   "metadata": {},
   "outputs": [],
   "source": [
    "# Generate an instance of your `NeuralNetwork` class with an appropriate architecture.\n",
    "nn = NeuralNetwork(\n",
    "    nn_arch=[\n",
    "        {'input_dim': 4000, 'output_dim': 500, 'activation': 'relu'},\n",
    "        {'input_dim': 500, 'output_dim': 8, 'activation': 'relu'},\n",
    "        {'input_dim': 8, 'output_dim': 1, 'activation': 'sigmoid'}\n",
    "    ],\n",
    "    lr=0.01,\n",
    "    seed=42,\n",
    "    loss_function='binary_cross_entropy',\n",
    "    epochs=100,\n",
    "    batch_size=32\n",
    ")"
   ]
  },
  {
   "cell_type": "code",
   "execution_count": 45,
   "metadata": {},
   "outputs": [],
   "source": [
    "# Train the model using the `train` method.\n",
    "loss_train, loss_val = nn.fit(\n",
    "    X_train=X_train,\n",
    "    y_train=y_train,\n",
    "    X_val=X_val,\n",
    "    y_val=y_val\n",
    ")"
   ]
  },
  {
   "cell_type": "code",
   "execution_count": 48,
   "metadata": {},
   "outputs": [
    {
     "data": {
      "image/png": "[encoded data removed]",
      "text/plain": [
       "<Figure size 640x480 with 1 Axes>"
      ]
     },
     "metadata": {},
     "output_type": "display_data"
    }
   ],
   "source": [
    "# Plot your training and validation loss by epoch.\n",
    "plt.plot(loss_train, label='Training Loss')\n",
    "plt.plot(loss_val, label='Validation Loss')\n",
    "plt.xlabel('Epoch')\n",
    "plt.ylabel('Loss')\n",
    "plt.title('Training and Validation Loss')\n",
    "plt.legend()\n",
    "plt.show()"
   ]
  },
  {
   "cell_type": "code",
   "execution_count": 49,
   "metadata": {},
   "outputs": [
    {
     "name": "stdout",
     "output_type": "stream",
     "text": [
      "Validation Accuracy: 50.00%\n"
     ]
    }
   ],
   "source": [
    "# Report the accuracy of your classifier on your validation dataset.\n",
    "y_pred = nn.predict(X_val)\n",
    "accuracy = np.mean((y_pred > 0.5) == y_val)\n",
    "print(f'Validation Accuracy: {accuracy * 100:.2f}%')\n"
   ]
  },
  {
   "cell_type": "markdown",
   "metadata": {
    "vscode": {
     "languageId": "markdown"
    }
   },
   "source": [
    "#### Choice of Hyperparameters\n",
    "1. **Learning Rate (`lr=0.01`)**: A moderate learning rate was chosen to ensure stable convergence during training. A smaller learning rate might slow down training, while a larger one could cause the model to overshoot the optimal solution.\n",
    "\n",
    "2. **Seed (`seed=42`)**: A fixed seed ensures reproducibility of results, which is crucial for debugging and comparing experiments.\n",
    "\n",
    "3. **Loss Function (`loss_function='binary_crossentropy'`)**: Binary cross-entropy is suitable for binary classification tasks, as it measures the performance of a model whose output is a probability value between 0 and 1.\n",
    "\n",
    "4. **Epochs (`epochs=100`)**: The model is trained for 100 epochs to allow sufficient time for convergence. This value was chosen based on the size of the dataset and the complexity of the model.\n",
    "\n",
    "5. **Batch Size (`batch_size=32`)**: A batch size of 32 is a common choice that balances computational efficiency and gradient stability.\n",
    "\n",
    "6. **Neural Network Architecture**:\n",
    "    - **Input Layer**: The input layer size is determined by the length of the one-hot encoded sequences.\n",
    "    - **Hidden Layers**: Several hidden layers with varying numbers of neurons to reduce dimensionality and capture complex patterns.\n",
    "    - **Output Layer**: A single neuron with a sigmoid activation function to output a probability score for the binary classification task.\n",
    "\n"
   ]
  },
  {
   "cell_type": "markdown",
   "metadata": {},
   "source": [
    "___"
   ]
  },
  {
   "cell_type": "code",
   "execution_count": null,
   "metadata": {},
   "outputs": [],
   "source": [
    "%load_ext watermark"
   ]
  },
  {
   "cell_type": "code",
   "execution_count": null,
   "metadata": {},
   "outputs": [
    {
     "name": "stdout",
     "output_type": "stream",
     "text": [
      "Last updated: 2025-03-28T13:57:35.913170-07:00\n",
      "\n",
      "Python implementation: CPython\n",
      "Python version       : 3.13.1\n",
      "IPython version      : 8.31.0\n",
      "\n",
      "Compiler    : Clang 18.1.8 \n",
      "OS          : Darwin\n",
      "Release     : 23.6.0\n",
      "Machine     : arm64\n",
      "Processor   : arm\n",
      "CPU cores   : 8\n",
      "Architecture: 64bit\n",
      "\n"
     ]
    }
   ],
   "source": [
    "%watermark"
   ]
  },
  {
   "cell_type": "code",
   "execution_count": null,
   "metadata": {},
   "outputs": [
    {
     "name": "stdout",
     "output_type": "stream",
     "text": [
      "Email: rsions\n",
      "\n",
      "Python implementation: CPython\n",
      "Python version       : 3.13.1\n",
      "IPython version      : 8.31.0\n",
      "\n"
     ]
    }
   ],
   "source": [
    "%watermark -iversions"
   ]
  },
  {
   "cell_type": "markdown",
   "metadata": {},
   "source": [
    "___"
   ]
  }
 ],
 "metadata": {
  "kernelspec": {
   "display_name": "bmi203",
   "language": "python",
   "name": "python3"
  },
  "language_info": {
   "codemirror_mode": {
    "name": "ipython",
    "version": 3
   },
   "file_extension": ".py",
   "mimetype": "text/x-python",
   "name": "python",
   "nbconvert_exporter": "python",
   "pygments_lexer": "ipython3",
   "version": "3.13.1"
  }
 },
 "nbformat": 4,
 "nbformat_minor": 2
}
